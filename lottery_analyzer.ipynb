{
 "cells": [
  {
   "cell_type": "code",
   "execution_count": 4,
   "metadata": {},
   "outputs": [
    {
     "name": "stdout",
     "output_type": "stream",
     "text": [
      "Lottery Analyzer - Input Game Info\n",
      "           field_num_max  bonus_ball_max drawing_days drawing_time  \\\n",
      "game_name                                                            \n",
      "pow                   23              23          mom       000000   \n",
      "\n",
      "          analysis_start_date  \n",
      "game_name                      \n",
      "pow                      2022  \n"
     ]
    }
   ],
   "source": [
    "import os\n",
    "\n",
    "from dotenv import load_dotenv\n",
    "\n",
    "import FieldNumbers as fn\n",
    "import lottery_analyzer_db as db\n",
    "import lottery_data_api as api\n",
    "import get_input as get\n",
    "\n",
    "load_dotenv()  # Get environment variables from .env file\n",
    "\n",
    "\n",
    "def main():\n",
    "    # db.updateDrawingsHistory(['powerball', 'mega_millions'])\n",
    "    \n",
    "    print(get.game_info())\n",
    "\n",
    "if __name__ == '__main__':\n",
    "    main()\n"
   ]
  },
  {
   "cell_type": "code",
   "execution_count": null,
   "metadata": {},
   "outputs": [],
   "source": []
  }
 ],
 "metadata": {
  "kernelspec": {
   "display_name": "Python 3.10.6 64-bit",
   "language": "python",
   "name": "python3"
  },
  "language_info": {
   "codemirror_mode": {
    "name": "ipython",
    "version": 3
   },
   "file_extension": ".py",
   "mimetype": "text/x-python",
   "name": "python",
   "nbconvert_exporter": "python",
   "pygments_lexer": "ipython3",
   "version": "3.10.6"
  },
  "orig_nbformat": 4,
  "vscode": {
   "interpreter": {
    "hash": "916dbcbb3f70747c44a77c7bcd40155683ae19c65e1c03b4aa3499c5328201f1"
   }
  }
 },
 "nbformat": 4,
 "nbformat_minor": 2
}
