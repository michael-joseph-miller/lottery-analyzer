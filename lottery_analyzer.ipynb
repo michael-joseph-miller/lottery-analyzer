{
 "cells": [
  {
   "cell_type": "code",
   "execution_count": null,
   "metadata": {},
   "outputs": [],
   "source": [
    "import os\n",
    "\n",
    "from dotenv import load_dotenv\n",
    "\n",
    "import FieldNumbers as fn\n",
    "import lottery_analyzer_db as db\n",
    "import lottery_data_api as api\n",
    "\n",
    "load_dotenv()  # Get environment variables from .env file\n",
    "\n",
    "\n",
    "def main():\n",
    "    # db.updateDrawingsHistory(['powerball', 'mega_millions'])\n",
    "    pb_field_nums_df = db.getFieldNumbers('powerball')\n",
    "    # print(pb_field_nums_df)\n",
    "    field_nums = fn.FieldNumbers(pb_field_nums_df)\n",
    "    # print('num_drawings:', field_nums.num_drawings)\n",
    "    # print('num_hits_df:\\n', field_nums.num_hits_df)\n",
    "    field_nums.num_hits_df.plot.bar(figsize=(12, 3))\n",
    "\n",
    "\n",
    "if __name__ == '__main__':\n",
    "    main()\n"
   ]
  }
 ],
 "metadata": {
  "kernelspec": {
   "display_name": "Python 3.10.6 64-bit",
   "language": "python",
   "name": "python3"
  },
  "language_info": {
   "name": "python",
   "version": "3.10.6"
  },
  "orig_nbformat": 4,
  "vscode": {
   "interpreter": {
    "hash": "916dbcbb3f70747c44a77c7bcd40155683ae19c65e1c03b4aa3499c5328201f1"
   }
  }
 },
 "nbformat": 4,
 "nbformat_minor": 2
}
